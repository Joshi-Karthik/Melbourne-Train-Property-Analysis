{
 "cells": [
  {
   "cell_type": "markdown",
   "metadata": {},
   "source": [
    "#### Version: 1.0\n",
    "\n",
    "#### Environment: Python 3.6 and Jupyter notebook\n",
    "<B><font size=3 color=\"green\">\n",
    "Libraries used: \n",
    "* Pandas to Dataframe usage and data manipulation \n",
    "* json to load json file\n",
    "* Math - Functions\n",
    "* Xml tree to load Xml file\n",
    "* Numpy for data manipulation\n",
    "* Seaborn for plots\n",
    "* matplotlib for plots\n",
    "* statsmodels\n",
    "* statsmodels.formula.api \n",
    "* statsmodels.graphics.gofplots for plots\n",
    "* Shapefile to load Shapefile \n",
    "    \n",
    "</B></font>"
   ]
  },
  {
   "cell_type": "code",
   "execution_count": 152,
   "metadata": {},
   "outputs": [],
   "source": [
    "#Importing required libraries\n",
    "import pandas as pd\n",
    "import json\n",
    "from math import sin, cos, sqrt, atan2, radians\n",
    "import xml.etree.ElementTree as ET\n",
    "import numpy as np\n",
    "import pandas as pd\n",
    "import seaborn as sns\n",
    "import matplotlib.pyplot as plt\n",
    "import statsmodels.formula.api as smf\n",
    "from statsmodels.graphics.gofplots import ProbPlot\n",
    "from shapely.geometry import Point, shape,Polygon\n",
    "import shapefile"
   ]
  },
  {
   "cell_type": "markdown",
   "metadata": {},
   "source": [
    "## 1. Data Integration \n",
    "\n",
    "<br/>\n",
    "<B><font size=3 color=\"green\">In this section We integrate Real estate data with Hospitals,Shopping Centres, Super Markets,Suburbs and Train information.</font></B>"
   ]
  },
  {
   "cell_type": "markdown",
   "metadata": {},
   "source": [
    "### 1.1 Reading Real estate Data- Json"
   ]
  },
  {
   "cell_type": "code",
   "execution_count": 153,
   "metadata": {},
   "outputs": [],
   "source": [
    "# Reading the file\n",
    "with open('real_state.json') as f:\n",
    "    data = json.load(f)"
   ]
  },
  {
   "cell_type": "code",
   "execution_count": 154,
   "metadata": {},
   "outputs": [],
   "source": [
    "#Converting into Dataframe\n",
    "property_data_json = pd.DataFrame.from_dict(data, orient='columns')"
   ]
  },
  {
   "cell_type": "code",
   "execution_count": 155,
   "metadata": {},
   "outputs": [],
   "source": [
    "# re-arranging the columns\n",
    "property_data_json = property_data_json[['property_id', 'lat','lng','addr_street','price','year','property_type','bedrooms','bathrooms','parking_space']]"
   ]
  },
  {
   "cell_type": "code",
   "execution_count": 156,
   "metadata": {},
   "outputs": [],
   "source": [
    "# Reading Xml Real Estate Data \n",
    "tree = ET.parse('real_state.xml')\n",
    "root = tree.getroot()\n",
    "properties_list = []\n",
    "for i, child in enumerate(root):\n",
    "    record = {}\n",
    "    for subchild in child:\n",
    "        record[subchild.tag] = subchild.text\n",
    "    properties_list.append(record)\n",
    "property_data_xml = pd.DataFrame(properties_list)\n",
    "property_data_xml=property_data_xml.T\n",
    "property_data_xml=property_data_xml.reset_index()\n",
    "property_data_xml.drop('index', axis=1,inplace=True)\n",
    "property_data_xml.columns=['bathrooms','price','bedrooms','parking_space','year','lat','lng','property_type','addr_street','property_id']\n",
    "property_data_xml = property_data_xml[['property_id', 'lat','lng','addr_street','price','year','property_type','bedrooms','bathrooms','parking_space']]\n",
    "property_data_xml=property_data_xml[property_data_xml['property_id']!='nan']\n",
    "property_data_xml[['property_id', 'lat','lng','price','year','bedrooms','bathrooms','parking_space']] = property_data_xml[['property_id', 'lat','lng','price','year','bedrooms','bathrooms','parking_space']].apply(pd.to_numeric)"
   ]
  },
  {
   "cell_type": "code",
   "execution_count": 157,
   "metadata": {},
   "outputs": [],
   "source": [
    "# Data Manipulation \n",
    "property_data=property_data_json.append(property_data_xml, ignore_index=True)\n",
    "property_data.drop_duplicates(subset='property_id',inplace=True)\n",
    "property_data=property_data.reset_index()\n",
    "property_data.drop('index', axis=1,inplace=True)\n",
    "property_data=property_data[pd.isna(property_data['property_id'])==False]"
   ]
  },
  {
   "cell_type": "markdown",
   "metadata": {},
   "source": [
    "## 1.2 Shopping Centres\n",
    "<br/>\n",
    "\n",
    "<B><font size=3 color=\"green\">In this section we wwill find nearest shopping centre to the property and add its ID and Distance to the Data</font></B>"
   ]
  },
  {
   "cell_type": "code",
   "execution_count": 158,
   "metadata": {},
   "outputs": [],
   "source": [
    "#Loading Shopping Centre\n",
    "shopping_centres=pd.read_html('shopingcenters.html')[0]\n",
    "shopping_centres=shopping_centres.drop(['Unnamed: 0'],axis=1)"
   ]
  },
  {
   "cell_type": "code",
   "execution_count": 159,
   "metadata": {},
   "outputs": [],
   "source": [
    "# Function to Calcuate Distance\n",
    "def lat_log_dist(lat1,lon1,lat2,lon2):\n",
    "    R = 6378\n",
    "    dlon = lon2 - lon1\n",
    "    dlat = lat2 - lat1\n",
    "    a = sin(dlat / 2)**2 + cos(lat1) * cos(lat2) * sin(dlon / 2)**2\n",
    "    c = 2 * atan2(sqrt(a), sqrt(1 - a))\n",
    "    distance = R * c * 1000\n",
    "    return distance"
   ]
  },
  {
   "cell_type": "code",
   "execution_count": 160,
   "metadata": {},
   "outputs": [],
   "source": [
    "#Finding Nearest Shopping Centre\n",
    "sc_id=[]\n",
    "dist=[]\n",
    "for i,j in property_data.iterrows():\n",
    "    lat1=radians(property_data['lat'][i])\n",
    "    lng1=radians(property_data['lng'][i])\n",
    "    a=[]\n",
    "    for index,row  in shopping_centres.iterrows():\n",
    "        a.append((lat_log_dist(lat1,lng1,radians(shopping_centres['lat'][index]),radians(shopping_centres['lng'][index])),shopping_centres['sc_id'][index]))\n",
    "    z=min(a)\n",
    "    sc_id.append(z[1])\n",
    "    dist.append(round(z[0],2))\n",
    "\n",
    "property_data['shopping_center_id']=sc_id\n",
    "property_data['distance_to_sc']=dist    "
   ]
  },
  {
   "cell_type": "markdown",
   "metadata": {},
   "source": [
    "## 1.3 Train Information\n",
    "<br/>\n",
    "<B><font size=3 color=\"green\">In this Section we will merge Melbourne GTFS Train Data with property Information . Basically we will find the nearest train station to Property and find the average travel time to Fliders street between 07AM-09AM. If there is no train between 7am-9am, we will find the nearest station which has train.Tranfer fld becomes 1 if there is train between 7-9 but its is not direct. Otherwise it is 0</font></B>  "
   ]
  },
  {
   "cell_type": "code",
   "execution_count": 161,
   "metadata": {},
   "outputs": [],
   "source": [
    "#Loading all Melbourne GTFS data\n",
    "stops=pd.read_csv('stops.txt',sep=\",\")\n",
    "routes=pd.read_csv('routes.txt',sep=\",\")\n",
    "stop_time=pd.read_csv('stop_times.txt',sep=\",\")\n",
    "trips=pd.read_csv('trips.txt',sep=\",\")\n",
    "calendar=pd.read_csv('calendar.txt',sep=\",\")\n",
    "# Merging them into single DataFrame\n",
    "result=routes.merge(trips,left_on='route_id',right_on='route_id',how='inner')\n",
    "result=result.merge(stop_time,left_on='trip_id',right_on='trip_id',how='inner')\n",
    "result=result.merge(stops,left_on='stop_id',right_on='stop_id',how='inner')\n",
    "result=result.merge(calendar,left_on='service_id',right_on='service_id',how='inner')\n",
    "result=result[result['service_id']=='T0']"
   ]
  },
  {
   "cell_type": "code",
   "execution_count": 162,
   "metadata": {},
   "outputs": [],
   "source": [
    "# Finding the travel time of all direct trains to Fliders between 07-09AM . We know from the Data that stop_ID of Fliders =19854\n",
    "stop_list=stops['stop_id'].tolist()\n",
    "\n",
    "df_Direct_train = pd.DataFrame(columns = ['stop_id', 'time', 'flag'])\n",
    "for each in stop_list:\n",
    "    temp=result[result['stop_id'].isin([each,19854])]\n",
    "    \n",
    "    temp=temp[temp['trip_headsign']=='City (Flinders Street)']\n",
    "    temp=temp[['route_id','trip_id','arrival_time','departure_time','stop_id']]\n",
    "   \n",
    "    temp1 = temp[temp['stop_id'] == 19854]\n",
    "    temp2 = temp[(temp['stop_id'] != 19854) & (temp['departure_time']>='07:00:00') & (temp['departure_time']<='09:00:00')]\n",
    "    \n",
    "    temp3=temp1.merge(temp2,left_on=['route_id','trip_id'],right_on=['route_id','trip_id'],suffixes=('_1','_2'))\n",
    "    \n",
    "    #from datetime import datetime\n",
    "    temp3['diif']=pd.to_datetime(temp3['arrival_time_1'])-pd.to_datetime(temp3['departure_time_2'])\n",
    "    temp3['diff1']=temp3['diif'].dt.total_seconds()/60\n",
    "    l = len(df_Direct_train)\n",
    "    df_Direct_train.at[l, 'time'] = round(temp3['diff1'].mean(),2)\n",
    "    df_Direct_train.at[l, 'stop_id'] = each\n",
    "    df_Direct_train.at[l, 'flag'] = 0\n"
   ]
  },
  {
   "cell_type": "code",
   "execution_count": 163,
   "metadata": {},
   "outputs": [],
   "source": [
    "#Handling Indrect train Transfers\n",
    "time = 0\n",
    "stop_direct = 0\n",
    "for i in df_Direct_train[(df_Direct_train['time'].isna()) & (df_Direct_train['stop_id']!= 19854)].index:\n",
    "    stop = df_Direct_train.loc[i]['stop_id']\n",
    "    df_temp = result[(result['stop_id']==stop) & (result['departure_time']>='07:00:00') & (result['departure_time']<='09:00:00')]\n",
    "    for j in df_temp.index:\n",
    "        if result.loc[j]['stop_id'] == stop:\n",
    "            route = result.loc[j]['route_long_name']\n",
    "            list_stop = result[result['route_long_name'] == route]['stop_id']\n",
    "            for each in list_stop:\n",
    "               \n",
    "                for idx in result[result['stop_id']==each].index:\n",
    "                    if result.loc[idx]['trip_headsign'] == 'City (Flinders Street)':\n",
    "                        stop_direct = result.loc[idx]['stop_id']\n",
    "                        time = df_Direct_train.loc[df_Direct_train['stop_id']==stop_direct]['time'].item()\n",
    "                        \n",
    "    \n",
    "    temp=result[(result['stop_id'].isin([stop,stop_direct])) &  (result['direction_id'] == 0)]\n",
    "    \n",
    "    temp=temp[['route_id','trip_id','arrival_time','departure_time','stop_id']]\n",
    "    temp1 = temp[temp['stop_id'] ==stop_direct]\n",
    "    temp2 = temp[(temp['stop_id'] == stop)  & (temp['departure_time']>='07:00:00') & (temp['departure_time']<='09:00:00')]\n",
    "    \n",
    "    temp3=temp1.merge(temp2,left_on=['route_id','trip_id'],right_on=['route_id','trip_id'],suffixes=('_1','_2'), how = 'right')\n",
    "    \n",
    "    temp3['diif']=pd.to_datetime(temp3['arrival_time_1'])-pd.to_datetime(temp3['departure_time_2'])\n",
    "    temp3['diff1']=temp3['diif'].dt.total_seconds()/60\n",
    "    df_Direct_train.at[i, 'time'] = round(temp3['diff1'].mean(),2)+time\n",
    "    df_Direct_train.at[i, 'flag'] = 1\n"
   ]
  },
  {
   "cell_type": "code",
   "execution_count": 164,
   "metadata": {},
   "outputs": [],
   "source": [
    "# Making the flag as 0 for fliders street Station Id\n",
    "index = df_Direct_train.loc[df_Direct_train['stop_id']== 19854].index\n",
    "df_Direct_train.at[index, 'time'] = 0\n",
    "df_Direct_train[['stop_id','time','flag']] = df_Direct_train[['stop_id','time','flag']].apply(pd.to_numeric)\n"
   ]
  },
  {
   "cell_type": "code",
   "execution_count": 165,
   "metadata": {},
   "outputs": [],
   "source": [
    "#merging with stops \n",
    "stops_temp=stops.merge(df_Direct_train,left_on=['stop_id'],right_on=['stop_id'],how='inner')\n",
    "# Finding distance,transfer Flag,Average travel time and stopid\n",
    "stop_id=[]\n",
    "dist=[]\n",
    "time=[]\n",
    "flag=[]\n",
    "for i,j in property_data.iterrows():\n",
    "    lat1=radians(property_data['lat'][i])\n",
    "    lng1=radians(property_data['lng'][i])\n",
    "    a=[]\n",
    "    for index,row  in stops_temp.iterrows():\n",
    "        a.append((lat_log_dist(lat1,lng1,radians(stops_temp['stop_lat'][index]),radians(stops_temp['stop_lon'][index])),stops_temp['stop_id'][index],stops_temp['time'][index],stops_temp['flag'][index]))\n",
    "    z=min(a)\n",
    "    stop_id.append(z[1])\n",
    "    dist.append(round(z[0],2))\n",
    "    flag.append(z[3])\n",
    "    time.append(z[2])\n",
    "property_data['train_station_id']=stop_id\n",
    "property_data['distance_to_train_station']=dist\n",
    "property_data['travel_min_to_CBD']=time\n",
    "property_data['transfer_flag']=flag "
   ]
  },
  {
   "cell_type": "markdown",
   "metadata": {},
   "source": [
    "## 1.4 Hospitals Data\n",
    "<br/>\n",
    "<B><font size=3 color=\"green\">\n",
    "In this section we will find the nearest Hospital to property and merge it with the property data along with Hospital ID and  Min distance.</font></B>"
   ]
  },
  {
   "cell_type": "code",
   "execution_count": 166,
   "metadata": {},
   "outputs": [],
   "source": [
    "#Reading Hospital Data\n",
    "with open('hospitals.json') as f:\n",
    "    data = json.load(f)\n",
    "hospitals_json = pd.DataFrame.from_dict(data, orient='columns')"
   ]
  },
  {
   "cell_type": "code",
   "execution_count": 167,
   "metadata": {},
   "outputs": [],
   "source": [
    "# Finding Minimum Distance \n",
    "hosp_id=[]\n",
    "dist=[]\n",
    "for i,j in property_data.iterrows():\n",
    "    lat1=radians(property_data['lat'][i])\n",
    "    lng1=radians(property_data['lng'][i])\n",
    "    a=[]\n",
    "    for index,row  in hospitals_json.iterrows():\n",
    "        a.append((lat_log_dist(lat1,lng1,radians(hospitals_json['lat'][index]),radians(hospitals_json['lng'][index])),hospitals_json['id'][index]))\n",
    "    z=min(a)\n",
    "    hosp_id.append(z[1])\n",
    "    dist.append(round(z[0],2))\n",
    "\n",
    "property_data['hospital_id']=hosp_id\n",
    "property_data['distance_to_hospital']=dist"
   ]
  },
  {
   "cell_type": "markdown",
   "metadata": {},
   "source": [
    "## 1.5 Super Markets Data\n",
    "<br/>\n",
    "\n",
    "<B><font size=3 color=\"green\">In this section we will find the nearest Supermarkets and merge it with property. </font></B>"
   ]
  },
  {
   "cell_type": "code",
   "execution_count": 168,
   "metadata": {},
   "outputs": [],
   "source": [
    "#Reading Super Market Data\n",
    "super_markets = pd.read_excel('supermarkets.xlsx', sheet_name=None)\n",
    "super_markets=pd.read_excel('supermarkets.xlsx', index_col=None)"
   ]
  },
  {
   "cell_type": "code",
   "execution_count": 169,
   "metadata": {},
   "outputs": [],
   "source": [
    "#Finding Nearest Super Market\n",
    "super_markets_id=[]\n",
    "dist=[]\n",
    "for i,j in property_data.iterrows():\n",
    "    lat1=radians(property_data['lat'][i])\n",
    "    lng1=radians(property_data['lng'][i])\n",
    "    a=[]\n",
    "    for index,row  in super_markets.iterrows():\n",
    "        a.append((lat_log_dist(lat1,lng1,radians(super_markets['lat'][index]),radians(super_markets['lng'][index])),super_markets['id'][index]))\n",
    "    z=min(a)\n",
    "    super_markets_id.append(z[1])\n",
    "    dist.append(round(z[0],2))\n",
    "\n",
    "property_data['supermarket_id']=super_markets_id\n",
    "property_data['distance_to_supermaket']=dist"
   ]
  },
  {
   "cell_type": "markdown",
   "metadata": {},
   "source": [
    "### 1.6 Suburbs Data\n",
    "<br/>\n",
    "<B><font size=3 color=\"green\">In this section we will merge suburbs name based on the given latitude and longitute of the properties </font></br>"
   ]
  },
  {
   "cell_type": "code",
   "execution_count": 170,
   "metadata": {},
   "outputs": [],
   "source": [
    "#Reading Shape File\n",
    "sf = shapefile.Reader(\"VIC_LOCALITY_POLYGON_shp.shp\") \n",
    "recs = sf.records()\n",
    "shapes = sf.shapes()"
   ]
  },
  {
   "cell_type": "code",
   "execution_count": 171,
   "metadata": {},
   "outputs": [],
   "source": [
    "#Finding the suburbs using Shapely package\n",
    "flag=False\n",
    "suburb=[]\n",
    "for index,row in property_data.iterrows():\n",
    "    lnglog=Point(property_data['lng'][index],property_data['lat'][index])\n",
    "    for i in range(len(shapes)):\n",
    "        if Polygon(shapes[i].points).contains(lnglog):\n",
    "            suburb.append(recs[i][6])\n",
    "            flag=True\n",
    "            break\n",
    "    if flag == False:\n",
    "        suburb.append('NotFound')"
   ]
  },
  {
   "cell_type": "code",
   "execution_count": 172,
   "metadata": {},
   "outputs": [],
   "source": [
    "property_data['suburb']=suburb"
   ]
  },
  {
   "cell_type": "code",
   "execution_count": 173,
   "metadata": {},
   "outputs": [
    {
     "name": "stderr",
     "output_type": "stream",
     "text": [
      "C:\\Users\\user\\Anaconda3\\lib\\site-packages\\ipykernel_launcher.py:7: SettingWithCopyWarning: \n",
      "A value is trying to be set on a copy of a slice from a DataFrame\n",
      "\n",
      "See the caveats in the documentation: http://pandas.pydata.org/pandas-docs/stable/indexing.html#indexing-view-versus-copy\n",
      "  import sys\n",
      "C:\\Users\\user\\Anaconda3\\lib\\site-packages\\ipykernel_launcher.py:8: SettingWithCopyWarning: \n",
      "A value is trying to be set on a copy of a slice from a DataFrame\n",
      "\n",
      "See the caveats in the documentation: http://pandas.pydata.org/pandas-docs/stable/indexing.html#indexing-view-versus-copy\n",
      "  \n",
      "C:\\Users\\user\\Anaconda3\\lib\\site-packages\\ipykernel_launcher.py:9: SettingWithCopyWarning: \n",
      "A value is trying to be set on a copy of a slice from a DataFrame\n",
      "\n",
      "See the caveats in the documentation: http://pandas.pydata.org/pandas-docs/stable/indexing.html#indexing-view-versus-copy\n",
      "  if __name__ == '__main__':\n",
      "C:\\Users\\user\\Anaconda3\\lib\\site-packages\\ipykernel_launcher.py:10: SettingWithCopyWarning: \n",
      "A value is trying to be set on a copy of a slice from a DataFrame\n",
      "\n",
      "See the caveats in the documentation: http://pandas.pydata.org/pandas-docs/stable/indexing.html#indexing-view-versus-copy\n",
      "  # Remove the CWD from sys.path while we load stuff.\n"
     ]
    }
   ],
   "source": [
    "for i,j in property_data.iterrows():\n",
    "    if math.isnan(property_data['travel_min_to_CBD'][i]):\n",
    "        lat=radians(property_data['lat'][i])\n",
    "        lng=radians(property_data['lng'][i])\n",
    "        lat_20025=radians(-37.801083)\n",
    "        lng_20025=radians(144.903199)\n",
    "        property_data['distance_to_train_station'][i]=lat_log_dist(lat,lng,lat_20025,lng_20025)        \n",
    "        property_data['travel_min_to_CBD'][i]=14.15\n",
    "        property_data['train_station_id'][i]=20025\n",
    "        property_data['transfer_flag'][i]=0"
   ]
  },
  {
   "cell_type": "code",
   "execution_count": 174,
   "metadata": {},
   "outputs": [],
   "source": [
    "property_data = property_data[['property_id', 'lat','lng','addr_street','suburb','price','year','property_type','bedrooms','bathrooms','parking_space',\n",
    "                                'shopping_center_id', 'distance_to_sc','train_station_id','distance_to_train_station','travel_min_to_CBD','transfer_flag',\n",
    "                               'hospital_id', 'distance_to_hospital','supermarket_id','distance_to_supermaket']]"
   ]
  },
  {
   "cell_type": "code",
   "execution_count": 175,
   "metadata": {},
   "outputs": [],
   "source": [
    "property_data.to_csv('29416000_solution.csv')"
   ]
  },
  {
   "cell_type": "markdown",
   "metadata": {},
   "source": [
    "## 2. Data Reshaping"
   ]
  },
  {
   "cell_type": "markdown",
   "metadata": {},
   "source": [
    "<B><font size=3 color=\"green\">Transformation refers to replacement of the variable by certain function of the variable.For instance replacing the variable x with logarithm of it or square root of it etc. In the correct sense  Transformation is a replacement that changes the shape of a distribution or relationship.<br/><br/>\n",
    "\n",
    "There are several reasons for performing transformation.Few of them are,<br/>\n",
    "\n",
    "   <li> Reducing Skewness </li>\n",
    "   <li> Providing Equal spreads</li>\n",
    "    <li>Easy for interpretation</li>\n",
    "    <li>Better model performance</li>\n",
    "   <li> Finding Relationship between variables.</li><br/>\n",
    "\n",
    "We do all these data tranformation because it is easy for us to perform statistical analysis and Visualization.<br/><br/>A distribution which is symmetric and has equal variance/spread is quite easy to interpret results. <br/>\n",
    "\n",
    "When we are concerned about the relationships between attributes ,it is more easier to interpret the patterns at are approximately linear than about patterns which are curved.<br/><br/>\n",
    "\n",
    "In the below sections we will perform different transformation to see which one fits good for the given data.</font></B>\n",
    "     "
   ]
  },
  {
   "cell_type": "markdown",
   "metadata": {},
   "source": [
    "### 2.1 Price Distribution without any Transformation "
   ]
  },
  {
   "cell_type": "code",
   "execution_count": 176,
   "metadata": {},
   "outputs": [
    {
     "data": {
      "text/plain": [
       "<matplotlib.axes._subplots.AxesSubplot at 0xb69c940>"
      ]
     },
     "execution_count": 176,
     "metadata": {},
     "output_type": "execute_result"
    },
    {
     "data": {
      "image/png": "[encoded data removed]",
      "text/plain": [
       "<Figure size 432x288 with 1 Axes>"
      ]
     },
     "metadata": {},
     "output_type": "display_data"
    }
   ],
   "source": [
    "property_data['price'].plot(kind='hist',bins=100,title='Histogram of Price')"
   ]
  },
  {
   "cell_type": "markdown",
   "metadata": {},
   "source": [
    "<B><font size=3 color=\"green\">The above Histogram shows skewness in the price Data. Hence transforming them would be usefull for better visualisation.\n",
    "\n",
    "Let us see the R-score value of this model without normalising and plot Q-Q plot and Vs Standard residuals </B>  "
   ]
  },
  {
   "cell_type": "code",
   "execution_count": 177,
   "metadata": {},
   "outputs": [
    {
     "data": {
      "text/html": [
       "<table class=\"simpletable\">\n",
       "<caption>OLS Regression Results</caption>\n",
       "<tr>\n",
       "  <th>Dep. Variable:</th>          <td>price</td>      <th>  R-squared:         </th> <td>   0.067</td> \n",
       "</tr>\n",
       "<tr>\n",
       "  <th>Model:</th>                   <td>OLS</td>       <th>  Adj. R-squared:    </th> <td>   0.065</td> \n",
       "</tr>\n",
       "<tr>\n",
       "  <th>Method:</th>             <td>Least Squares</td>  <th>  F-statistic:       </th> <td>   46.91</td> \n",
       "</tr>\n",
       "<tr>\n",
       "  <th>Date:</th>             <td>Fri, 26 Oct 2018</td> <th>  Prob (F-statistic):</th> <td>2.80e-29</td> \n",
       "</tr>\n",
       "<tr>\n",
       "  <th>Time:</th>                 <td>21:42:57</td>     <th>  Log-Likelihood:    </th> <td> -33417.</td> \n",
       "</tr>\n",
       "<tr>\n",
       "  <th>No. Observations:</th>      <td>  1969</td>      <th>  AIC:               </th> <td>6.684e+04</td>\n",
       "</tr>\n",
       "<tr>\n",
       "  <th>Df Residuals:</th>          <td>  1965</td>      <th>  BIC:               </th> <td>6.686e+04</td>\n",
       "</tr>\n",
       "<tr>\n",
       "  <th>Df Model:</th>              <td>     3</td>      <th>                     </th>     <td> </td>    \n",
       "</tr>\n",
       "<tr>\n",
       "  <th>Covariance Type:</th>      <td>nonrobust</td>    <th>                     </th>     <td> </td>    \n",
       "</tr>\n",
       "</table>\n",
       "<table class=\"simpletable\">\n",
       "<tr>\n",
       "        <td></td>           <th>coef</th>     <th>std err</th>      <th>t</th>      <th>P>|t|</th>  <th>[0.025</th>    <th>0.975]</th>  \n",
       "</tr>\n",
       "<tr>\n",
       "  <th>Intercept</th>     <td> 3.394e+06</td> <td> 5.62e+05</td> <td>    6.043</td> <td> 0.000</td> <td> 2.29e+06</td> <td> 4.49e+06</td>\n",
       "</tr>\n",
       "<tr>\n",
       "  <th>bedrooms</th>      <td> 1.163e+06</td> <td> 2.16e+05</td> <td>    5.398</td> <td> 0.000</td> <td> 7.41e+05</td> <td> 1.59e+06</td>\n",
       "</tr>\n",
       "<tr>\n",
       "  <th>bathrooms</th>     <td> 1.205e+06</td> <td> 2.62e+05</td> <td>    4.599</td> <td> 0.000</td> <td> 6.91e+05</td> <td> 1.72e+06</td>\n",
       "</tr>\n",
       "<tr>\n",
       "  <th>parking_space</th> <td> 2.301e+05</td> <td> 1.73e+05</td> <td>    1.326</td> <td> 0.185</td> <td> -1.1e+05</td> <td>  5.7e+05</td>\n",
       "</tr>\n",
       "</table>\n",
       "<table class=\"simpletable\">\n",
       "<tr>\n",
       "  <th>Omnibus:</th>       <td>762.718</td> <th>  Durbin-Watson:     </th> <td>   1.703</td>\n",
       "</tr>\n",
       "<tr>\n",
       "  <th>Prob(Omnibus):</th> <td> 0.000</td>  <th>  Jarque-Bera (JB):  </th> <td>3401.402</td>\n",
       "</tr>\n",
       "<tr>\n",
       "  <th>Skew:</th>          <td> 1.828</td>  <th>  Prob(JB):          </th> <td>    0.00</td>\n",
       "</tr>\n",
       "<tr>\n",
       "  <th>Kurtosis:</th>      <td> 8.300</td>  <th>  Cond. No.          </th> <td>    18.7</td>\n",
       "</tr>\n",
       "</table><br/><br/>Warnings:<br/>[1] Standard Errors assume that the covariance matrix of the errors is correctly specified."
      ],
      "text/plain": [
       "<class 'statsmodels.iolib.summary.Summary'>\n",
       "\"\"\"\n",
       "                            OLS Regression Results                            \n",
       "==============================================================================\n",
       "Dep. Variable:                  price   R-squared:                       0.067\n",
       "Model:                            OLS   Adj. R-squared:                  0.065\n",
       "Method:                 Least Squares   F-statistic:                     46.91\n",
       "Date:                Fri, 26 Oct 2018   Prob (F-statistic):           2.80e-29\n",
       "Time:                        21:42:57   Log-Likelihood:                -33417.\n",
       "No. Observations:                1969   AIC:                         6.684e+04\n",
       "Df Residuals:                    1965   BIC:                         6.686e+04\n",
       "Df Model:                           3                                         \n",
       "Covariance Type:            nonrobust                                         \n",
       "=================================================================================\n",
       "                    coef    std err          t      P>|t|      [0.025      0.975]\n",
       "---------------------------------------------------------------------------------\n",
       "Intercept      3.394e+06   5.62e+05      6.043      0.000    2.29e+06    4.49e+06\n",
       "bedrooms       1.163e+06   2.16e+05      5.398      0.000    7.41e+05    1.59e+06\n",
       "bathrooms      1.205e+06   2.62e+05      4.599      0.000    6.91e+05    1.72e+06\n",
       "parking_space  2.301e+05   1.73e+05      1.326      0.185    -1.1e+05     5.7e+05\n",
       "==============================================================================\n",
       "Omnibus:                      762.718   Durbin-Watson:                   1.703\n",
       "Prob(Omnibus):                  0.000   Jarque-Bera (JB):             3401.402\n",
       "Skew:                           1.828   Prob(JB):                         0.00\n",
       "Kurtosis:                       8.300   Cond. No.                         18.7\n",
       "==============================================================================\n",
       "\n",
       "Warnings:\n",
       "[1] Standard Errors assume that the covariance matrix of the errors is correctly specified.\n",
       "\"\"\""
      ]
     },
     "execution_count": 177,
     "metadata": {},
     "output_type": "execute_result"
    }
   ],
   "source": [
    "#Using OLS library to perform Linear Regression \n",
    "model_price = 'price ~ bedrooms+bathrooms+parking_space+property_type'\n",
    "model = smf.ols(formula=model_price, data=property_data)\n",
    "model_fit = model.fit()\n",
    "model_fit.summary()"
   ]
  },
  {
   "cell_type": "markdown",
   "metadata": {},
   "source": [
    "<B><font size=3 color=\"green\">The Model Score is less which is obvious as data is real and not all predictors are considered for the fit. The graph is right- skewed with co-efficient 1.828 and R-score value of 6.7%.\n",
    "\n",
    "\n",
    "The Link below provides the code to plot QQ- Plots </B></font>\n",
    "\n",
    "https://medium.com/@emredjan/emulating-r-regression-plots-in-python-43741952c034"
   ]
  },
  {
   "cell_type": "code",
   "execution_count": 178,
   "metadata": {},
   "outputs": [],
   "source": [
    "#fitted values (need a constant term for intercept)\n",
    "model_fitted_y = model_fit.fittedvalues\n",
    "# model residuals\n",
    "model_residuals = model_fit.resid\n",
    "# normalized residuals\n",
    "model_norm_residuals = model_fit.get_influence().resid_studentized_internal\n",
    "# absolute squared normalized residuals\n",
    "model_norm_residuals_abs_sqrt = np.sqrt(np.abs(model_norm_residuals))\n",
    "# absolute residuals\n",
    "model_abs_resid = np.abs(model_residuals)\n",
    "# leverage, from statsmodels internals\n",
    "model_leverage = model_fit.get_influence().hat_matrix_diag\n",
    "# cook's distance, from statsmodels internals\n",
    "model_cooks = model_fit.get_influence().cooks_distance[0]"
   ]
  },
  {
   "cell_type": "code",
   "execution_count": 179,
   "metadata": {},
   "outputs": [
    {
     "data": {
      "image/png": "[encoded data removed]",
      "text/plain": [
       "<Figure size 864x576 with 1 Axes>"
      ]
     },
     "metadata": {},
     "output_type": "display_data"
    }
   ],
   "source": [
    "QQ = ProbPlot(model_norm_residuals)\n",
    "plot_lm_2 = QQ.qqplot(line='45', alpha=0.5, color='#4C72B0', lw=1)\n",
    "plot_lm_2.set_figheight(8)\n",
    "plot_lm_2.set_figwidth(12)\n",
    "plot_lm_2.axes[0].set_title('Normal Q-Q')\n",
    "plot_lm_2.axes[0].set_xlabel('Theoretical Quantiles')\n",
    "plot_lm_2.axes[0].set_ylabel('Standardized Residuals');\n",
    "# annotations\n",
    "abs_norm_resid = np.flip(np.argsort(np.abs(model_norm_residuals)), 0)\n",
    "abs_norm_resid_top_3 = abs_norm_resid[:3]\n",
    "for r, i in enumerate(abs_norm_resid_top_3):\n",
    "    plot_lm_2.axes[0].annotate(i, \n",
    "                               xy=(np.flip(QQ.theoretical_quantiles, 0)[r],\n",
    "                                   model_norm_residuals[i]));"
   ]
  },
  {
   "cell_type": "markdown",
   "metadata": {},
   "source": [
    "<B><font size=3 color=\"green\">The graph above shows Quantiles Vs Standard residuals which is not fitting linearly. Hence we consider performing some transformations to achive good linear relationship.\n",
    "\n",
    "Some of the tranformation we would like to use are \n",
    "    1. Zscore normalization \n",
    "    2. Log Normalization \n",
    "    3. Min-Max Normalization \n",
    "    4. Power Normalization \n",
    " \n",
    "As we dont have any Nulls or Negative values in the Price column all these methods would be good to use.</B></font>"
   ]
  },
  {
   "cell_type": "markdown",
   "metadata": {},
   "source": [
    "### 2.2  Z-score Normalization  \n",
    "\n",
    "<B><font size=3 color=\"green\">Here we try to normalise the price feature to achieve normal Distribution.\n",
    "\n",
    "Z score normalization is useful for comparing variables expressed in different units. Calculation of Z-score is given by the formula\n",
    "\n",
    "Zscore doesn't change the distribution instead it normalises the units of measurement and helps to interpret the variances in different units </B></font>\n",
    "\n",
    "<B><font color=Brown>Zscore=x-mean(x)/std(x) </font><B/>"
   ]
  },
  {
   "cell_type": "code",
   "execution_count": 180,
   "metadata": {},
   "outputs": [
    {
     "data": {
      "text/plain": [
       "<matplotlib.axes._subplots.AxesSubplot at 0x2df05a90>"
      ]
     },
     "execution_count": 180,
     "metadata": {},
     "output_type": "execute_result"
    },
    {
     "data": {
      "image/png": "[encoded data removed]",
      "text/plain": [
       "<Figure size 432x288 with 1 Axes>"
      ]
     },
     "metadata": {},
     "output_type": "display_data"
    }
   ],
   "source": [
    "property_data['Zscore']=(property_data['price']-property_data['price'].mean())/property_data['price'].std()\n",
    "property_data['Zscore'].plot(kind='hist',bins=100,title='Histogram of Z-score of Price')"
   ]
  },
  {
   "cell_type": "markdown",
   "metadata": {},
   "source": [
    "<B><font size=3 color=\"green\">The graph above shows the Histogram of Zscore of price which is still actually skewed. </B></font>"
   ]
  },
  {
   "cell_type": "code",
   "execution_count": 181,
   "metadata": {},
   "outputs": [
    {
     "data": {
      "text/html": [
       "<table class=\"simpletable\">\n",
       "<caption>OLS Regression Results</caption>\n",
       "<tr>\n",
       "  <th>Dep. Variable:</th>         <td>Zscore</td>      <th>  R-squared:         </th> <td>   0.067</td>\n",
       "</tr>\n",
       "<tr>\n",
       "  <th>Model:</th>                   <td>OLS</td>       <th>  Adj. R-squared:    </th> <td>   0.065</td>\n",
       "</tr>\n",
       "<tr>\n",
       "  <th>Method:</th>             <td>Least Squares</td>  <th>  F-statistic:       </th> <td>   46.91</td>\n",
       "</tr>\n",
       "<tr>\n",
       "  <th>Date:</th>             <td>Fri, 26 Oct 2018</td> <th>  Prob (F-statistic):</th> <td>2.80e-29</td>\n",
       "</tr>\n",
       "<tr>\n",
       "  <th>Time:</th>                 <td>21:42:58</td>     <th>  Log-Likelihood:    </th> <td> -2725.3</td>\n",
       "</tr>\n",
       "<tr>\n",
       "  <th>No. Observations:</th>      <td>  1969</td>      <th>  AIC:               </th> <td>   5459.</td>\n",
       "</tr>\n",
       "<tr>\n",
       "  <th>Df Residuals:</th>          <td>  1965</td>      <th>  BIC:               </th> <td>   5481.</td>\n",
       "</tr>\n",
       "<tr>\n",
       "  <th>Df Model:</th>              <td>     3</td>      <th>                     </th>     <td> </td>   \n",
       "</tr>\n",
       "<tr>\n",
       "  <th>Covariance Type:</th>      <td>nonrobust</td>    <th>                     </th>     <td> </td>   \n",
       "</tr>\n",
       "</table>\n",
       "<table class=\"simpletable\">\n",
       "<tr>\n",
       "        <td></td>           <th>coef</th>     <th>std err</th>      <th>t</th>      <th>P>|t|</th>  <th>[0.025</th>    <th>0.975]</th>  \n",
       "</tr>\n",
       "<tr>\n",
       "  <th>Intercept</th>     <td>   -1.0106</td> <td>    0.095</td> <td>  -10.588</td> <td> 0.000</td> <td>   -1.198</td> <td>   -0.823</td>\n",
       "</tr>\n",
       "<tr>\n",
       "  <th>bedrooms</th>      <td>    0.1978</td> <td>    0.037</td> <td>    5.398</td> <td> 0.000</td> <td>    0.126</td> <td>    0.270</td>\n",
       "</tr>\n",
       "<tr>\n",
       "  <th>bathrooms</th>     <td>    0.2049</td> <td>    0.045</td> <td>    4.599</td> <td> 0.000</td> <td>    0.118</td> <td>    0.292</td>\n",
       "</tr>\n",
       "<tr>\n",
       "  <th>parking_space</th> <td>    0.0391</td> <td>    0.029</td> <td>    1.326</td> <td> 0.185</td> <td>   -0.019</td> <td>    0.097</td>\n",
       "</tr>\n",
       "</table>\n",
       "<table class=\"simpletable\">\n",
       "<tr>\n",
       "  <th>Omnibus:</th>       <td>762.718</td> <th>  Durbin-Watson:     </th> <td>   1.703</td>\n",
       "</tr>\n",
       "<tr>\n",
       "  <th>Prob(Omnibus):</th> <td> 0.000</td>  <th>  Jarque-Bera (JB):  </th> <td>3401.402</td>\n",
       "</tr>\n",
       "<tr>\n",
       "  <th>Skew:</th>          <td> 1.828</td>  <th>  Prob(JB):          </th> <td>    0.00</td>\n",
       "</tr>\n",
       "<tr>\n",
       "  <th>Kurtosis:</th>      <td> 8.300</td>  <th>  Cond. No.          </th> <td>    18.7</td>\n",
       "</tr>\n",
       "</table><br/><br/>Warnings:<br/>[1] Standard Errors assume that the covariance matrix of the errors is correctly specified."
      ],
      "text/plain": [
       "<class 'statsmodels.iolib.summary.Summary'>\n",
       "\"\"\"\n",
       "                            OLS Regression Results                            \n",
       "==============================================================================\n",
       "Dep. Variable:                 Zscore   R-squared:                       0.067\n",
       "Model:                            OLS   Adj. R-squared:                  0.065\n",
       "Method:                 Least Squares   F-statistic:                     46.91\n",
       "Date:                Fri, 26 Oct 2018   Prob (F-statistic):           2.80e-29\n",
       "Time:                        21:42:58   Log-Likelihood:                -2725.3\n",
       "No. Observations:                1969   AIC:                             5459.\n",
       "Df Residuals:                    1965   BIC:                             5481.\n",
       "Df Model:                           3                                         \n",
       "Covariance Type:            nonrobust                                         \n",
       "=================================================================================\n",
       "                    coef    std err          t      P>|t|      [0.025      0.975]\n",
       "---------------------------------------------------------------------------------\n",
       "Intercept        -1.0106      0.095    -10.588      0.000      -1.198      -0.823\n",
       "bedrooms          0.1978      0.037      5.398      0.000       0.126       0.270\n",
       "bathrooms         0.2049      0.045      4.599      0.000       0.118       0.292\n",
       "parking_space     0.0391      0.029      1.326      0.185      -0.019       0.097\n",
       "==============================================================================\n",
       "Omnibus:                      762.718   Durbin-Watson:                   1.703\n",
       "Prob(Omnibus):                  0.000   Jarque-Bera (JB):             3401.402\n",
       "Skew:                           1.828   Prob(JB):                         0.00\n",
       "Kurtosis:                       8.300   Cond. No.                         18.7\n",
       "==============================================================================\n",
       "\n",
       "Warnings:\n",
       "[1] Standard Errors assume that the covariance matrix of the errors is correctly specified.\n",
       "\"\"\""
      ]
     },
     "execution_count": 181,
     "metadata": {},
     "output_type": "execute_result"
    }
   ],
   "source": [
    "#Modelling with Z-score and Plotting Residuals\n",
    "model_f = 'Zscore ~ bedrooms+bathrooms+parking_space+property_type'\n",
    "model = smf.ols(formula=model_f, data=property_data)\n",
    "model_fit = model.fit()\n",
    "model_fit.summary()"
   ]
  },
  {
   "cell_type": "markdown",
   "metadata": {},
   "source": [
    "<B><font size=3 color=\"green\">We can see that Skewness, R score and Kurtosis remains the same as original data and hence we proved that Z-score is only meant to interpret variables in different units and it doesn't change the distribution. </B></font> "
   ]
  },
  {
   "cell_type": "code",
   "execution_count": 182,
   "metadata": {},
   "outputs": [],
   "source": [
    "#fitted values (need a constant term for intercept)\n",
    "model_fitted_y = model_fit.fittedvalues\n",
    "# model residuals\n",
    "model_residuals = model_fit.resid\n",
    "# normalized residuals\n",
    "model_norm_residuals = model_fit.get_influence().resid_studentized_internal\n",
    "# absolute squared normalized residuals\n",
    "model_norm_residuals_abs_sqrt = np.sqrt(np.abs(model_norm_residuals))\n",
    "# absolute residuals\n",
    "model_abs_resid = np.abs(model_residuals)\n",
    "# leverage, from statsmodels internals\n",
    "model_leverage = model_fit.get_influence().hat_matrix_diag\n",
    "# cook's distance, from statsmodels internals\n",
    "model_cooks = model_fit.get_influence().cooks_distance[0]"
   ]
  },
  {
   "cell_type": "code",
   "execution_count": 183,
   "metadata": {},
   "outputs": [
    {
     "data": {
      "image/png": "[encoded data removed]",
      "text/plain": [
       "<Figure size 864x576 with 1 Axes>"
      ]
     },
     "metadata": {},
     "output_type": "display_data"
    }
   ],
   "source": [
    "#PLotting QQ Plot \n",
    "from statsmodels.graphics.gofplots import ProbPlot\n",
    "QQ = ProbPlot(model_norm_residuals)\n",
    "plot_lm_2 = QQ.qqplot(line='45', alpha=0.5, color='#4C72B0', lw=1)\n",
    "plot_lm_2.set_figheight(8)\n",
    "plot_lm_2.set_figwidth(12)\n",
    "plot_lm_2.axes[0].set_title('Normal Q-Q')\n",
    "plot_lm_2.axes[0].set_xlabel('Theoretical Quantiles')\n",
    "plot_lm_2.axes[0].set_ylabel('Standardized Residuals');\n",
    "# annotations\n",
    "abs_norm_resid = np.flip(np.argsort(np.abs(model_norm_residuals)), 0)\n",
    "abs_norm_resid_top_3 = abs_norm_resid[:3]\n",
    "for r, i in enumerate(abs_norm_resid_top_3):\n",
    "    plot_lm_2.axes[0].annotate(i, \n",
    "                               xy=(np.flip(QQ.theoretical_quantiles, 0)[r],\n",
    "                                   model_norm_residuals[i]));"
   ]
  },
  {
   "cell_type": "markdown",
   "metadata": {},
   "source": [
    "<B><font size=3 color=\"green\">We again see here there is no much difference between Actual Price and Z-scored prices.<B/></font>"
   ]
  },
  {
   "cell_type": "markdown",
   "metadata": {},
   "source": [
    "### 2.3 Log Transformation\n",
    "\n",
    "<B><font size=3 color=\"green\">Log Transformation usually tranforms highly skewed data to less skewed. It changes the distribution shape, and it brings the extream outliers close to rest of data.We can achieve this by taking log(x) to base 10 or ln(x) on price column.<br/> The graph below shows the distribution when Log(x) to base 10 is applied on price column.\n",
    "\n",
    "Log Transformation is used when the data is right skewed and log to base 10 works best when there are high values of data. In our case Price is right skewed and has high values, This should be good fit for the model. We shall prove this by plotting histogram and QQ plots</B></font>"
   ]
  },
  {
   "cell_type": "code",
   "execution_count": 184,
   "metadata": {},
   "outputs": [
    {
     "data": {
      "text/plain": [
       "<matplotlib.axes._subplots.AxesSubplot at 0x2d4e4b00>"
      ]
     },
     "execution_count": 184,
     "metadata": {},
     "output_type": "execute_result"
    },
    {
     "data": {
      "image/png": "[encoded data removed]",
      "text/plain": [
       "<Figure size 432x288 with 1 Axes>"
      ]
     },
     "metadata": {},
     "output_type": "display_data"
    }
   ],
   "source": [
    "import math\n",
    "property_data['logprice']=property_data['price'].apply(lambda x:math.log(float(x))) # converting it to float\n",
    "property_data['logprice'].plot(kind='hist',bins=100,title='Histogram of Log(Price)')"
   ]
  },
  {
   "cell_type": "markdown",
   "metadata": {},
   "source": [
    "<B><font size=3 color=\"green\">Histogram shows the data is normally distributed</B></font>"
   ]
  },
  {
   "cell_type": "code",
   "execution_count": 185,
   "metadata": {},
   "outputs": [
    {
     "data": {
      "text/html": [
       "<table class=\"simpletable\">\n",
       "<caption>OLS Regression Results</caption>\n",
       "<tr>\n",
       "  <th>Dep. Variable:</th>        <td>logprice</td>     <th>  R-squared:         </th> <td>   0.053</td>\n",
       "</tr>\n",
       "<tr>\n",
       "  <th>Model:</th>                   <td>OLS</td>       <th>  Adj. R-squared:    </th> <td>   0.051</td>\n",
       "</tr>\n",
       "<tr>\n",
       "  <th>Method:</th>             <td>Least Squares</td>  <th>  F-statistic:       </th> <td>   36.51</td>\n",
       "</tr>\n",
       "<tr>\n",
       "  <th>Date:</th>             <td>Fri, 26 Oct 2018</td> <th>  Prob (F-statistic):</th> <td>5.88e-23</td>\n",
       "</tr>\n",
       "<tr>\n",
       "  <th>Time:</th>                 <td>21:42:59</td>     <th>  Log-Likelihood:    </th> <td> -1597.9</td>\n",
       "</tr>\n",
       "<tr>\n",
       "  <th>No. Observations:</th>      <td>  1969</td>      <th>  AIC:               </th> <td>   3204.</td>\n",
       "</tr>\n",
       "<tr>\n",
       "  <th>Df Residuals:</th>          <td>  1965</td>      <th>  BIC:               </th> <td>   3226.</td>\n",
       "</tr>\n",
       "<tr>\n",
       "  <th>Df Model:</th>              <td>     3</td>      <th>                     </th>     <td> </td>   \n",
       "</tr>\n",
       "<tr>\n",
       "  <th>Covariance Type:</th>      <td>nonrobust</td>    <th>                     </th>     <td> </td>   \n",
       "</tr>\n",
       "</table>\n",
       "<table class=\"simpletable\">\n",
       "<tr>\n",
       "        <td></td>           <th>coef</th>     <th>std err</th>      <th>t</th>      <th>P>|t|</th>  <th>[0.025</th>    <th>0.975]</th>  \n",
       "</tr>\n",
       "<tr>\n",
       "  <th>Intercept</th>     <td>   15.3751</td> <td>    0.054</td> <td>  285.546</td> <td> 0.000</td> <td>   15.270</td> <td>   15.481</td>\n",
       "</tr>\n",
       "<tr>\n",
       "  <th>bedrooms</th>      <td>    0.1109</td> <td>    0.021</td> <td>    5.369</td> <td> 0.000</td> <td>    0.070</td> <td>    0.151</td>\n",
       "</tr>\n",
       "<tr>\n",
       "  <th>bathrooms</th>     <td>    0.0910</td> <td>    0.025</td> <td>    3.621</td> <td> 0.000</td> <td>    0.042</td> <td>    0.140</td>\n",
       "</tr>\n",
       "<tr>\n",
       "  <th>parking_space</th> <td>    0.0117</td> <td>    0.017</td> <td>    0.703</td> <td> 0.482</td> <td>   -0.021</td> <td>    0.044</td>\n",
       "</tr>\n",
       "</table>\n",
       "<table class=\"simpletable\">\n",
       "<tr>\n",
       "  <th>Omnibus:</th>       <td> 0.147</td> <th>  Durbin-Watson:     </th> <td>   1.656</td>\n",
       "</tr>\n",
       "<tr>\n",
       "  <th>Prob(Omnibus):</th> <td> 0.929</td> <th>  Jarque-Bera (JB):  </th> <td>   0.159</td>\n",
       "</tr>\n",
       "<tr>\n",
       "  <th>Skew:</th>          <td> 0.021</td> <th>  Prob(JB):          </th> <td>   0.924</td>\n",
       "</tr>\n",
       "<tr>\n",
       "  <th>Kurtosis:</th>      <td> 2.987</td> <th>  Cond. No.          </th> <td>    18.7</td>\n",
       "</tr>\n",
       "</table><br/><br/>Warnings:<br/>[1] Standard Errors assume that the covariance matrix of the errors is correctly specified."
      ],
      "text/plain": [
       "<class 'statsmodels.iolib.summary.Summary'>\n",
       "\"\"\"\n",
       "                            OLS Regression Results                            \n",
       "==============================================================================\n",
       "Dep. Variable:               logprice   R-squared:                       0.053\n",
       "Model:                            OLS   Adj. R-squared:                  0.051\n",
       "Method:                 Least Squares   F-statistic:                     36.51\n",
       "Date:                Fri, 26 Oct 2018   Prob (F-statistic):           5.88e-23\n",
       "Time:                        21:42:59   Log-Likelihood:                -1597.9\n",
       "No. Observations:                1969   AIC:                             3204.\n",
       "Df Residuals:                    1965   BIC:                             3226.\n",
       "Df Model:                           3                                         \n",
       "Covariance Type:            nonrobust                                         \n",
       "=================================================================================\n",
       "                    coef    std err          t      P>|t|      [0.025      0.975]\n",
       "---------------------------------------------------------------------------------\n",
       "Intercept        15.3751      0.054    285.546      0.000      15.270      15.481\n",
       "bedrooms          0.1109      0.021      5.369      0.000       0.070       0.151\n",
       "bathrooms         0.0910      0.025      3.621      0.000       0.042       0.140\n",
       "parking_space     0.0117      0.017      0.703      0.482      -0.021       0.044\n",
       "==============================================================================\n",
       "Omnibus:                        0.147   Durbin-Watson:                   1.656\n",
       "Prob(Omnibus):                  0.929   Jarque-Bera (JB):                0.159\n",
       "Skew:                           0.021   Prob(JB):                        0.924\n",
       "Kurtosis:                       2.987   Cond. No.                         18.7\n",
       "==============================================================================\n",
       "\n",
       "Warnings:\n",
       "[1] Standard Errors assume that the covariance matrix of the errors is correctly specified.\n",
       "\"\"\""
      ]
     },
     "execution_count": 185,
     "metadata": {},
     "output_type": "execute_result"
    }
   ],
   "source": [
    "#Fitting the model to check Static values\n",
    "model_price = 'logprice ~ bedrooms+bathrooms+parking_space+property_type'\n",
    "model = smf.ols(formula=model_price, data=property_data)\n",
    "model_fit = model.fit()\n",
    "model_fit.summary()"
   ]
  },
  {
   "cell_type": "markdown",
   "metadata": {},
   "source": [
    "<B><font size=3 color=\"green\">We can see that Log Transformation has reduced skeweness with coefficient 0.021 in the data but there is also slight decrement in the R-Square value when compared to original data which is tradeoff. <br/><br/>\n",
    "\n",
    "\n",
    "The below code is shows the QQ plot from which we can determine the linearity  </B></font>"
   ]
  },
  {
   "cell_type": "code",
   "execution_count": 186,
   "metadata": {},
   "outputs": [],
   "source": [
    "#fitted values (need a constant term for intercept)\n",
    "model_fitted_y = model_fit.fittedvalues\n",
    "# model residuals\n",
    "model_residuals = model_fit.resid\n",
    "# normalized residuals\n",
    "model_norm_residuals = model_fit.get_influence().resid_studentized_internal\n",
    "# absolute squared normalized residuals\n",
    "model_norm_residuals_abs_sqrt = np.sqrt(np.abs(model_norm_residuals))\n",
    "# absolute residuals\n",
    "model_abs_resid = np.abs(model_residuals)\n",
    "# leverage, from statsmodels internals\n",
    "model_leverage = model_fit.get_influence().hat_matrix_diag\n",
    "# cook's distance, from statsmodels internals\n",
    "model_cooks = model_fit.get_influence().cooks_distance[0]"
   ]
  },
  {
   "cell_type": "code",
   "execution_count": 187,
   "metadata": {},
   "outputs": [
    {
     "data": {
      "image/png": "[encoded data removed]",
      "text/plain": [
       "<Figure size 864x576 with 1 Axes>"
      ]
     },
     "metadata": {},
     "output_type": "display_data"
    }
   ],
   "source": [
    "from statsmodels.graphics.gofplots import ProbPlot\n",
    "QQ = ProbPlot(model_norm_residuals)\n",
    "plot_lm_2 = QQ.qqplot(line='45', alpha=0.5, color='#4C72B0', lw=1)\n",
    "plot_lm_2.set_figheight(8)\n",
    "plot_lm_2.set_figwidth(12)\n",
    "plot_lm_2.axes[0].set_title('Normal Q-Q')\n",
    "plot_lm_2.axes[0].set_xlabel('Theoretical Quantiles')\n",
    "plot_lm_2.axes[0].set_ylabel('Standardized Residuals');\n",
    "# annotations\n",
    "abs_norm_resid = np.flip(np.argsort(np.abs(model_norm_residuals)), 0)\n",
    "abs_norm_resid_top_3 = abs_norm_resid[:3]\n",
    "for r, i in enumerate(abs_norm_resid_top_3):\n",
    "    plot_lm_2.axes[0].annotate(i, \n",
    "                               xy=(np.flip(QQ.theoretical_quantiles, 0)[r],\n",
    "                                   model_norm_residuals[i]));"
   ]
  },
  {
   "cell_type": "markdown",
   "metadata": {},
   "source": [
    "<B><font size=3 color=\"green\">We can see from the above graph that Residuals Vs Quantiles have almost linear relationship. Hence this may be good fit. However we will see other transformation which may stil give better statistics.</B></font>  "
   ]
  },
  {
   "cell_type": "markdown",
   "metadata": {},
   "source": [
    "### 2.4 Min-Max Normalization \n",
    "\n",
    "<B><font size=3 color=\"green\">This tranformation is usefull when the distribution is not gaussian. As our distribution is gaussain this may not be good fit. We try to prove this below</B></font>"
   ]
  },
  {
   "cell_type": "code",
   "execution_count": 188,
   "metadata": {},
   "outputs": [
    {
     "data": {
      "text/plain": [
       "<matplotlib.axes._subplots.AxesSubplot at 0x2c910278>"
      ]
     },
     "execution_count": 188,
     "metadata": {},
     "output_type": "execute_result"
    },
    {
     "data": {
      "image/png": "[encoded data removed]",
      "text/plain": [
       "<Figure size 432x288 with 1 Axes>"
      ]
     },
     "metadata": {},
     "output_type": "display_data"
    }
   ],
   "source": [
    "from sklearn import preprocessing\n",
    "minmax_scale = preprocessing.MinMaxScaler().fit(property_data[['price']])\n",
    "property_data['minmax'] = minmax_scale.transform(property_data[['price']])\n",
    "property_data['minmax'].plot(kind='hist',bins=100,title='Histogram of Min-Max scaled price')"
   ]
  },
  {
   "cell_type": "markdown",
   "metadata": {},
   "source": [
    "<B><font size=3 color=\"green\">The ditribution looks skewed again which is would be not efficient model to predict values.</B></font>"
   ]
  },
  {
   "cell_type": "code",
   "execution_count": 189,
   "metadata": {},
   "outputs": [
    {
     "data": {
      "text/html": [
       "<table class=\"simpletable\">\n",
       "<caption>OLS Regression Results</caption>\n",
       "<tr>\n",
       "  <th>Dep. Variable:</th>         <td>minmax</td>      <th>  R-squared:         </th> <td>   0.067</td>\n",
       "</tr>\n",
       "<tr>\n",
       "  <th>Model:</th>                   <td>OLS</td>       <th>  Adj. R-squared:    </th> <td>   0.065</td>\n",
       "</tr>\n",
       "<tr>\n",
       "  <th>Method:</th>             <td>Least Squares</td>  <th>  F-statistic:       </th> <td>   46.91</td>\n",
       "</tr>\n",
       "<tr>\n",
       "  <th>Date:</th>             <td>Fri, 26 Oct 2018</td> <th>  Prob (F-statistic):</th> <td>2.80e-29</td>\n",
       "</tr>\n",
       "<tr>\n",
       "  <th>Time:</th>                 <td>21:43:01</td>     <th>  Log-Likelihood:    </th> <td>  1272.1</td>\n",
       "</tr>\n",
       "<tr>\n",
       "  <th>No. Observations:</th>      <td>  1969</td>      <th>  AIC:               </th> <td>  -2536.</td>\n",
       "</tr>\n",
       "<tr>\n",
       "  <th>Df Residuals:</th>          <td>  1965</td>      <th>  BIC:               </th> <td>  -2514.</td>\n",
       "</tr>\n",
       "<tr>\n",
       "  <th>Df Model:</th>              <td>     3</td>      <th>                     </th>     <td> </td>   \n",
       "</tr>\n",
       "<tr>\n",
       "  <th>Covariance Type:</th>      <td>nonrobust</td>    <th>                     </th>     <td> </td>   \n",
       "</tr>\n",
       "</table>\n",
       "<table class=\"simpletable\">\n",
       "<tr>\n",
       "        <td></td>           <th>coef</th>     <th>std err</th>      <th>t</th>      <th>P>|t|</th>  <th>[0.025</th>    <th>0.975]</th>  \n",
       "</tr>\n",
       "<tr>\n",
       "  <th>Intercept</th>     <td>    0.0512</td> <td>    0.013</td> <td>    4.084</td> <td> 0.000</td> <td>    0.027</td> <td>    0.076</td>\n",
       "</tr>\n",
       "<tr>\n",
       "  <th>bedrooms</th>      <td>    0.0260</td> <td>    0.005</td> <td>    5.398</td> <td> 0.000</td> <td>    0.017</td> <td>    0.035</td>\n",
       "</tr>\n",
       "<tr>\n",
       "  <th>bathrooms</th>     <td>    0.0269</td> <td>    0.006</td> <td>    4.599</td> <td> 0.000</td> <td>    0.015</td> <td>    0.038</td>\n",
       "</tr>\n",
       "<tr>\n",
       "  <th>parking_space</th> <td>    0.0051</td> <td>    0.004</td> <td>    1.326</td> <td> 0.185</td> <td>   -0.002</td> <td>    0.013</td>\n",
       "</tr>\n",
       "</table>\n",
       "<table class=\"simpletable\">\n",
       "<tr>\n",
       "  <th>Omnibus:</th>       <td>762.718</td> <th>  Durbin-Watson:     </th> <td>   1.703</td>\n",
       "</tr>\n",
       "<tr>\n",
       "  <th>Prob(Omnibus):</th> <td> 0.000</td>  <th>  Jarque-Bera (JB):  </th> <td>3401.402</td>\n",
       "</tr>\n",
       "<tr>\n",
       "  <th>Skew:</th>          <td> 1.828</td>  <th>  Prob(JB):          </th> <td>    0.00</td>\n",
       "</tr>\n",
       "<tr>\n",
       "  <th>Kurtosis:</th>      <td> 8.300</td>  <th>  Cond. No.          </th> <td>    18.7</td>\n",
       "</tr>\n",
       "</table><br/><br/>Warnings:<br/>[1] Standard Errors assume that the covariance matrix of the errors is correctly specified."
      ],
      "text/plain": [
       "<class 'statsmodels.iolib.summary.Summary'>\n",
       "\"\"\"\n",
       "                            OLS Regression Results                            \n",
       "==============================================================================\n",
       "Dep. Variable:                 minmax   R-squared:                       0.067\n",
       "Model:                            OLS   Adj. R-squared:                  0.065\n",
       "Method:                 Least Squares   F-statistic:                     46.91\n",
       "Date:                Fri, 26 Oct 2018   Prob (F-statistic):           2.80e-29\n",
       "Time:                        21:43:01   Log-Likelihood:                 1272.1\n",
       "No. Observations:                1969   AIC:                            -2536.\n",
       "Df Residuals:                    1965   BIC:                            -2514.\n",
       "Df Model:                           3                                         \n",
       "Covariance Type:            nonrobust                                         \n",
       "=================================================================================\n",
       "                    coef    std err          t      P>|t|      [0.025      0.975]\n",
       "---------------------------------------------------------------------------------\n",
       "Intercept         0.0512      0.013      4.084      0.000       0.027       0.076\n",
       "bedrooms          0.0260      0.005      5.398      0.000       0.017       0.035\n",
       "bathrooms         0.0269      0.006      4.599      0.000       0.015       0.038\n",
       "parking_space     0.0051      0.004      1.326      0.185      -0.002       0.013\n",
       "==============================================================================\n",
       "Omnibus:                      762.718   Durbin-Watson:                   1.703\n",
       "Prob(Omnibus):                  0.000   Jarque-Bera (JB):             3401.402\n",
       "Skew:                           1.828   Prob(JB):                         0.00\n",
       "Kurtosis:                       8.300   Cond. No.                         18.7\n",
       "==============================================================================\n",
       "\n",
       "Warnings:\n",
       "[1] Standard Errors assume that the covariance matrix of the errors is correctly specified.\n",
       "\"\"\""
      ]
     },
     "execution_count": 189,
     "metadata": {},
     "output_type": "execute_result"
    }
   ],
   "source": [
    "model_price = 'minmax ~ bedrooms+bathrooms+parking_space+property_type'\n",
    "model = smf.ols(formula=model_price, data=property_data)\n",
    "model_fit = model.fit()\n",
    "model_fit.summary()"
   ]
  },
  {
   "cell_type": "code",
   "execution_count": 190,
   "metadata": {},
   "outputs": [],
   "source": [
    "#fitted values (need a constant term for intercept)\n",
    "model_fitted_y = model_fit.fittedvalues\n",
    "# model residuals\n",
    "model_residuals = model_fit.resid\n",
    "# normalized residuals\n",
    "model_norm_residuals = model_fit.get_influence().resid_studentized_internal\n",
    "# absolute squared normalized residuals\n",
    "model_norm_residuals_abs_sqrt = np.sqrt(np.abs(model_norm_residuals))\n",
    "# absolute residuals\n",
    "model_abs_resid = np.abs(model_residuals)\n",
    "# leverage, from statsmodels internals\n",
    "model_leverage = model_fit.get_influence().hat_matrix_diag\n",
    "# cook's distance, from statsmodels internals\n",
    "model_cooks = model_fit.get_influence().cooks_distance[0]"
   ]
  },
  {
   "cell_type": "code",
   "execution_count": 191,
   "metadata": {},
   "outputs": [
    {
     "data": {
      "image/png": "[encoded data removed]",
      "text/plain": [
       "<Figure size 864x576 with 1 Axes>"
      ]
     },
     "metadata": {},
     "output_type": "display_data"
    }
   ],
   "source": [
    "from statsmodels.graphics.gofplots import ProbPlot\n",
    "QQ = ProbPlot(model_norm_residuals)\n",
    "plot_lm_2 = QQ.qqplot(line='45', alpha=0.5, color='#4C72B0', lw=1)\n",
    "plot_lm_2.set_figheight(8)\n",
    "plot_lm_2.set_figwidth(12)\n",
    "plot_lm_2.axes[0].set_title('Normal Q-Q')\n",
    "plot_lm_2.axes[0].set_xlabel('Theoretical Quantiles')\n",
    "plot_lm_2.axes[0].set_ylabel('Standardized Residuals');\n",
    "# annotations\n",
    "abs_norm_resid = np.flip(np.argsort(np.abs(model_norm_residuals)), 0)\n",
    "abs_norm_resid_top_3 = abs_norm_resid[:3]\n",
    "for r, i in enumerate(abs_norm_resid_top_3):\n",
    "    plot_lm_2.axes[0].annotate(i, \n",
    "                               xy=(np.flip(QQ.theoretical_quantiles, 0)[r],\n",
    "                                   model_norm_residuals[i]));"
   ]
  },
  {
   "cell_type": "markdown",
   "metadata": {},
   "source": [
    "<B><font size=3 color=\"green\">The Q-Q plot is not at all linear . Hence it not the best choice of normalization </B></font>"
   ]
  },
  {
   "cell_type": "markdown",
   "metadata": {},
   "source": [
    "### 2.5 Power Transformation\n",
    "\n",
    "#### 2.5.1 Square root of the function.\n",
    "\n",
    "<B><font size=2 color=\"green\">Square root tranformation is good for right Skewed distribution, Hence this may be good fit for our model.We shall determine this by plotting histograms and QQ-plot\n",
    "\n",
    "Power transformation has moderate effect on the distribution shape. The below graph shows the distribution of square root function \n",
    "</B></font>"
   ]
  },
  {
   "cell_type": "code",
   "execution_count": 192,
   "metadata": {},
   "outputs": [
    {
     "data": {
      "text/plain": [
       "<matplotlib.axes._subplots.AxesSubplot at 0x2df1e710>"
      ]
     },
     "execution_count": 192,
     "metadata": {},
     "output_type": "execute_result"
    },
    {
     "data": {
      "image/png": "[encoded data removed]",
      "text/plain": [
       "<Figure size 432x288 with 1 Axes>"
      ]
     },
     "metadata": {},
     "output_type": "display_data"
    }
   ],
   "source": [
    "property_data['Power1_2']=pow(property_data['price'],0.5)\n",
    "property_data['Power1_2'].plot(kind='hist',bins=100,title='Histogram of Sqrt of Price')"
   ]
  },
  {
   "cell_type": "markdown",
   "metadata": {},
   "source": [
    "<B><font size=3 color=\"green\">The Histogram looks approximately normal and it is slightly comparable to log transformation. We will the check the regression results to verify the skewness and R square values.</B></font>"
   ]
  },
  {
   "cell_type": "code",
   "execution_count": 193,
   "metadata": {},
   "outputs": [
    {
     "data": {
      "text/html": [
       "<table class=\"simpletable\">\n",
       "<caption>OLS Regression Results</caption>\n",
       "<tr>\n",
       "  <th>Dep. Variable:</th>        <td>Power1_2</td>     <th>  R-squared:         </th> <td>   0.062</td> \n",
       "</tr>\n",
       "<tr>\n",
       "  <th>Model:</th>                   <td>OLS</td>       <th>  Adj. R-squared:    </th> <td>   0.060</td> \n",
       "</tr>\n",
       "<tr>\n",
       "  <th>Method:</th>             <td>Least Squares</td>  <th>  F-statistic:       </th> <td>   43.19</td> \n",
       "</tr>\n",
       "<tr>\n",
       "  <th>Date:</th>             <td>Fri, 26 Oct 2018</td> <th>  Prob (F-statistic):</th> <td>5.03e-27</td> \n",
       "</tr>\n",
       "<tr>\n",
       "  <th>Time:</th>                 <td>21:43:02</td>     <th>  Log-Likelihood:    </th> <td> -16023.</td> \n",
       "</tr>\n",
       "<tr>\n",
       "  <th>No. Observations:</th>      <td>  1969</td>      <th>  AIC:               </th> <td>3.205e+04</td>\n",
       "</tr>\n",
       "<tr>\n",
       "  <th>Df Residuals:</th>          <td>  1965</td>      <th>  BIC:               </th> <td>3.208e+04</td>\n",
       "</tr>\n",
       "<tr>\n",
       "  <th>Df Model:</th>              <td>     3</td>      <th>                     </th>     <td> </td>    \n",
       "</tr>\n",
       "<tr>\n",
       "  <th>Covariance Type:</th>      <td>nonrobust</td>    <th>                     </th>     <td> </td>    \n",
       "</tr>\n",
       "</table>\n",
       "<table class=\"simpletable\">\n",
       "<tr>\n",
       "        <td></td>           <th>coef</th>     <th>std err</th>      <th>t</th>      <th>P>|t|</th>  <th>[0.025</th>    <th>0.975]</th>  \n",
       "</tr>\n",
       "<tr>\n",
       "  <th>Intercept</th>     <td> 2094.9625</td> <td>   81.813</td> <td>   25.607</td> <td> 0.000</td> <td> 1934.513</td> <td> 2255.412</td>\n",
       "</tr>\n",
       "<tr>\n",
       "  <th>bedrooms</th>      <td>  171.9147</td> <td>   31.400</td> <td>    5.475</td> <td> 0.000</td> <td>  110.335</td> <td>  233.495</td>\n",
       "</tr>\n",
       "<tr>\n",
       "  <th>bathrooms</th>     <td>  161.3582</td> <td>   38.175</td> <td>    4.227</td> <td> 0.000</td> <td>   86.491</td> <td>  236.226</td>\n",
       "</tr>\n",
       "<tr>\n",
       "  <th>parking_space</th> <td>   25.3399</td> <td>   25.273</td> <td>    1.003</td> <td> 0.316</td> <td>  -24.226</td> <td>   74.905</td>\n",
       "</tr>\n",
       "</table>\n",
       "<table class=\"simpletable\">\n",
       "<tr>\n",
       "  <th>Omnibus:</th>       <td>230.768</td> <th>  Durbin-Watson:     </th> <td>   1.664</td>\n",
       "</tr>\n",
       "<tr>\n",
       "  <th>Prob(Omnibus):</th> <td> 0.000</td>  <th>  Jarque-Bera (JB):  </th> <td> 343.180</td>\n",
       "</tr>\n",
       "<tr>\n",
       "  <th>Skew:</th>          <td> 0.853</td>  <th>  Prob(JB):          </th> <td>3.02e-75</td>\n",
       "</tr>\n",
       "<tr>\n",
       "  <th>Kurtosis:</th>      <td> 4.129</td>  <th>  Cond. No.          </th> <td>    18.7</td>\n",
       "</tr>\n",
       "</table><br/><br/>Warnings:<br/>[1] Standard Errors assume that the covariance matrix of the errors is correctly specified."
      ],
      "text/plain": [
       "<class 'statsmodels.iolib.summary.Summary'>\n",
       "\"\"\"\n",
       "                            OLS Regression Results                            \n",
       "==============================================================================\n",
       "Dep. Variable:               Power1_2   R-squared:                       0.062\n",
       "Model:                            OLS   Adj. R-squared:                  0.060\n",
       "Method:                 Least Squares   F-statistic:                     43.19\n",
       "Date:                Fri, 26 Oct 2018   Prob (F-statistic):           5.03e-27\n",
       "Time:                        21:43:02   Log-Likelihood:                -16023.\n",
       "No. Observations:                1969   AIC:                         3.205e+04\n",
       "Df Residuals:                    1965   BIC:                         3.208e+04\n",
       "Df Model:                           3                                         \n",
       "Covariance Type:            nonrobust                                         \n",
       "=================================================================================\n",
       "                    coef    std err          t      P>|t|      [0.025      0.975]\n",
       "---------------------------------------------------------------------------------\n",
       "Intercept      2094.9625     81.813     25.607      0.000    1934.513    2255.412\n",
       "bedrooms        171.9147     31.400      5.475      0.000     110.335     233.495\n",
       "bathrooms       161.3582     38.175      4.227      0.000      86.491     236.226\n",
       "parking_space    25.3399     25.273      1.003      0.316     -24.226      74.905\n",
       "==============================================================================\n",
       "Omnibus:                      230.768   Durbin-Watson:                   1.664\n",
       "Prob(Omnibus):                  0.000   Jarque-Bera (JB):              343.180\n",
       "Skew:                           0.853   Prob(JB):                     3.02e-75\n",
       "Kurtosis:                       4.129   Cond. No.                         18.7\n",
       "==============================================================================\n",
       "\n",
       "Warnings:\n",
       "[1] Standard Errors assume that the covariance matrix of the errors is correctly specified.\n",
       "\"\"\""
      ]
     },
     "execution_count": 193,
     "metadata": {},
     "output_type": "execute_result"
    }
   ],
   "source": [
    "model_price = 'Power1_2 ~ bedrooms+bathrooms+parking_space+property_type'\n",
    "model = smf.ols(formula=model_price, data=property_data)\n",
    "model_fit = model.fit()\n",
    "model_fit.summary()"
   ]
  },
  {
   "cell_type": "markdown",
   "metadata": {},
   "source": [
    "<B><font size=3 color=\"green\">The skeweness has reduced and also there is also slight improvement in R-Square. But we also need to look at the Residuals to decide on the best transformation. Hence we plot Q-Q plot of the Power transformation <B></font> "
   ]
  },
  {
   "cell_type": "code",
   "execution_count": 194,
   "metadata": {},
   "outputs": [],
   "source": [
    "#fitted values (need a constant term for intercept)\n",
    "model_fitted_y = model_fit.fittedvalues\n",
    "# model residuals\n",
    "model_residuals = model_fit.resid\n",
    "# normalized residuals\n",
    "model_norm_residuals = model_fit.get_influence().resid_studentized_internal\n",
    "# absolute squared normalized residuals\n",
    "model_norm_residuals_abs_sqrt = np.sqrt(np.abs(model_norm_residuals))\n",
    "# absolute residuals\n",
    "model_abs_resid = np.abs(model_residuals)\n",
    "# leverage, from statsmodels internals\n",
    "model_leverage = model_fit.get_influence().hat_matrix_diag\n",
    "# cook's distance, from statsmodels internals\n",
    "model_cooks = model_fit.get_influence().cooks_distance[0]"
   ]
  },
  {
   "cell_type": "code",
   "execution_count": 195,
   "metadata": {},
   "outputs": [
    {
     "data": {
      "image/png": "[encoded data removed]",
      "text/plain": [
       "<Figure size 864x576 with 1 Axes>"
      ]
     },
     "metadata": {},
     "output_type": "display_data"
    }
   ],
   "source": [
    "from statsmodels.graphics.gofplots import ProbPlot\n",
    "QQ = ProbPlot(model_norm_residuals)\n",
    "plot_lm_2 = QQ.qqplot(line='45', alpha=0.5, color='#4C72B0', lw=1)\n",
    "plot_lm_2.set_figheight(8)\n",
    "plot_lm_2.set_figwidth(12)\n",
    "plot_lm_2.axes[0].set_title('Normal Q-Q')\n",
    "plot_lm_2.axes[0].set_xlabel('Theoretical Quantiles')\n",
    "plot_lm_2.axes[0].set_ylabel('Standardized Residuals');\n",
    "# annotations\n",
    "abs_norm_resid = np.flip(np.argsort(np.abs(model_norm_residuals)), 0)\n",
    "abs_norm_resid_top_3 = abs_norm_resid[:3]\n",
    "for r, i in enumerate(abs_norm_resid_top_3):\n",
    "    plot_lm_2.axes[0].annotate(i, \n",
    "                               xy=(np.flip(QQ.theoretical_quantiles, 0)[r],\n",
    "                                   model_norm_residuals[i]));"
   ]
  },
  {
   "cell_type": "markdown",
   "metadata": {},
   "source": [
    "<B><font size=3 color=\"green\">The Plot looks closely linear.However Log tranformations looks better when compared to this. </B></font>"
   ]
  },
  {
   "cell_type": "markdown",
   "metadata": {},
   "source": [
    "#### 2.5.2 Square of the function.-Power(2)\n",
    "<B><font size=2 color=\"green\">This is usaully good when data is left skewed. But in our case price data is right skewed. Hence this may not effective. But we shall prove this by simply taking square of the price attribute. </B></font>"
   ]
  },
  {
   "cell_type": "code",
   "execution_count": 196,
   "metadata": {},
   "outputs": [
    {
     "data": {
      "text/plain": [
       "<matplotlib.axes._subplots.AxesSubplot at 0x2d60bcf8>"
      ]
     },
     "execution_count": 196,
     "metadata": {},
     "output_type": "execute_result"
    },
    {
     "data": {
      "image/png": "[encoded data removed]",
      "text/plain": [
       "<Figure size 432x288 with 1 Axes>"
      ]
     },
     "metadata": {},
     "output_type": "display_data"
    }
   ],
   "source": [
    "property_data['Power2']=pow(property_data['price'],2)\n",
    "property_data['Power2'].plot(kind='hist',bins=100,title='Histogram of Square of Price')"
   ]
  },
  {
   "cell_type": "markdown",
   "metadata": {},
   "source": [
    "<B><font size=3 color=\"green\">Histogram is highy skewed and defintely wont be a good fit. But we shall prove this by the plot and the model.</B></font>"
   ]
  },
  {
   "cell_type": "code",
   "execution_count": 197,
   "metadata": {},
   "outputs": [
    {
     "data": {
      "text/html": [
       "<table class=\"simpletable\">\n",
       "<caption>OLS Regression Results</caption>\n",
       "<tr>\n",
       "  <th>Dep. Variable:</th>         <td>Power2</td>      <th>  R-squared:         </th> <td>   0.061</td> \n",
       "</tr>\n",
       "<tr>\n",
       "  <th>Model:</th>                   <td>OLS</td>       <th>  Adj. R-squared:    </th> <td>   0.060</td> \n",
       "</tr>\n",
       "<tr>\n",
       "  <th>Method:</th>             <td>Least Squares</td>  <th>  F-statistic:       </th> <td>   42.92</td> \n",
       "</tr>\n",
       "<tr>\n",
       "  <th>Date:</th>             <td>Fri, 26 Oct 2018</td> <th>  Prob (F-statistic):</th> <td>7.31e-27</td> \n",
       "</tr>\n",
       "<tr>\n",
       "  <th>Time:</th>                 <td>21:43:03</td>     <th>  Log-Likelihood:    </th> <td> -67505.</td> \n",
       "</tr>\n",
       "<tr>\n",
       "  <th>No. Observations:</th>      <td>  1969</td>      <th>  AIC:               </th> <td>1.350e+05</td>\n",
       "</tr>\n",
       "<tr>\n",
       "  <th>Df Residuals:</th>          <td>  1965</td>      <th>  BIC:               </th> <td>1.350e+05</td>\n",
       "</tr>\n",
       "<tr>\n",
       "  <th>Df Model:</th>              <td>     3</td>      <th>                     </th>     <td> </td>    \n",
       "</tr>\n",
       "<tr>\n",
       "  <th>Covariance Type:</th>      <td>nonrobust</td>    <th>                     </th>     <td> </td>    \n",
       "</tr>\n",
       "</table>\n",
       "<table class=\"simpletable\">\n",
       "<tr>\n",
       "        <td></td>           <th>coef</th>     <th>std err</th>      <th>t</th>      <th>P>|t|</th>  <th>[0.025</th>    <th>0.975]</th>  \n",
       "</tr>\n",
       "<tr>\n",
       "  <th>Intercept</th>     <td>-6.289e+13</td> <td> 1.85e+13</td> <td>   -3.392</td> <td> 0.001</td> <td>-9.92e+13</td> <td>-2.65e+13</td>\n",
       "</tr>\n",
       "<tr>\n",
       "  <th>bedrooms</th>      <td> 3.342e+13</td> <td> 7.11e+12</td> <td>    4.698</td> <td> 0.000</td> <td> 1.95e+13</td> <td> 4.74e+13</td>\n",
       "</tr>\n",
       "<tr>\n",
       "  <th>bathrooms</th>     <td>     4e+13</td> <td> 8.65e+12</td> <td>    4.625</td> <td> 0.000</td> <td>  2.3e+13</td> <td>  5.7e+13</td>\n",
       "</tr>\n",
       "<tr>\n",
       "  <th>parking_space</th> <td> 1.019e+13</td> <td> 5.73e+12</td> <td>    1.779</td> <td> 0.075</td> <td>-1.05e+12</td> <td> 2.14e+13</td>\n",
       "</tr>\n",
       "</table>\n",
       "<table class=\"simpletable\">\n",
       "<tr>\n",
       "  <th>Omnibus:</th>       <td>1855.049</td> <th>  Durbin-Watson:     </th> <td>   1.826</td> \n",
       "</tr>\n",
       "<tr>\n",
       "  <th>Prob(Omnibus):</th>  <td> 0.000</td>  <th>  Jarque-Bera (JB):  </th> <td>76090.248</td>\n",
       "</tr>\n",
       "<tr>\n",
       "  <th>Skew:</th>           <td> 4.485</td>  <th>  Prob(JB):          </th> <td>    0.00</td> \n",
       "</tr>\n",
       "<tr>\n",
       "  <th>Kurtosis:</th>       <td>32.103</td>  <th>  Cond. No.          </th> <td>    18.7</td> \n",
       "</tr>\n",
       "</table><br/><br/>Warnings:<br/>[1] Standard Errors assume that the covariance matrix of the errors is correctly specified."
      ],
      "text/plain": [
       "<class 'statsmodels.iolib.summary.Summary'>\n",
       "\"\"\"\n",
       "                            OLS Regression Results                            \n",
       "==============================================================================\n",
       "Dep. Variable:                 Power2   R-squared:                       0.061\n",
       "Model:                            OLS   Adj. R-squared:                  0.060\n",
       "Method:                 Least Squares   F-statistic:                     42.92\n",
       "Date:                Fri, 26 Oct 2018   Prob (F-statistic):           7.31e-27\n",
       "Time:                        21:43:03   Log-Likelihood:                -67505.\n",
       "No. Observations:                1969   AIC:                         1.350e+05\n",
       "Df Residuals:                    1965   BIC:                         1.350e+05\n",
       "Df Model:                           3                                         \n",
       "Covariance Type:            nonrobust                                         \n",
       "=================================================================================\n",
       "                    coef    std err          t      P>|t|      [0.025      0.975]\n",
       "---------------------------------------------------------------------------------\n",
       "Intercept     -6.289e+13   1.85e+13     -3.392      0.001   -9.92e+13   -2.65e+13\n",
       "bedrooms       3.342e+13   7.11e+12      4.698      0.000    1.95e+13    4.74e+13\n",
       "bathrooms          4e+13   8.65e+12      4.625      0.000     2.3e+13     5.7e+13\n",
       "parking_space  1.019e+13   5.73e+12      1.779      0.075   -1.05e+12    2.14e+13\n",
       "==============================================================================\n",
       "Omnibus:                     1855.049   Durbin-Watson:                   1.826\n",
       "Prob(Omnibus):                  0.000   Jarque-Bera (JB):            76090.248\n",
       "Skew:                           4.485   Prob(JB):                         0.00\n",
       "Kurtosis:                      32.103   Cond. No.                         18.7\n",
       "==============================================================================\n",
       "\n",
       "Warnings:\n",
       "[1] Standard Errors assume that the covariance matrix of the errors is correctly specified.\n",
       "\"\"\""
      ]
     },
     "execution_count": 197,
     "metadata": {},
     "output_type": "execute_result"
    }
   ],
   "source": [
    "model_price = 'Power2 ~ bedrooms+bathrooms+parking_space+property_type'\n",
    "model = smf.ols(formula=model_price, data=property_data)\n",
    "model_fit = model.fit()\n",
    "model_fit.summary()"
   ]
  },
  {
   "cell_type": "markdown",
   "metadata": {},
   "source": [
    "<B><font size=3 color=\"green\">The skewness has increased to 4.485 which suggests linear model wont fit as expected. </B></font>"
   ]
  },
  {
   "cell_type": "code",
   "execution_count": 198,
   "metadata": {},
   "outputs": [],
   "source": [
    "#fitted values (need a constant term for intercept)\n",
    "model_fitted_y = model_fit.fittedvalues\n",
    "# model residuals\n",
    "model_residuals = model_fit.resid\n",
    "# normalized residuals\n",
    "model_norm_residuals = model_fit.get_influence().resid_studentized_internal\n",
    "# absolute squared normalized residuals\n",
    "model_norm_residuals_abs_sqrt = np.sqrt(np.abs(model_norm_residuals))\n",
    "# absolute residuals\n",
    "model_abs_resid = np.abs(model_residuals)\n",
    "# leverage, from statsmodels internals\n",
    "model_leverage = model_fit.get_influence().hat_matrix_diag\n",
    "# cook's distance, from statsmodels internals\n",
    "model_cooks = model_fit.get_influence().cooks_distance[0]"
   ]
  },
  {
   "cell_type": "code",
   "execution_count": 199,
   "metadata": {},
   "outputs": [
    {
     "data": {
      "image/png": "[encoded data removed]",
      "text/plain": [
       "<Figure size 864x576 with 1 Axes>"
      ]
     },
     "metadata": {},
     "output_type": "display_data"
    }
   ],
   "source": [
    "from statsmodels.graphics.gofplots import ProbPlot\n",
    "QQ = ProbPlot(model_norm_residuals)\n",
    "plot_lm_2 = QQ.qqplot(line='45', alpha=0.5, color='#4C72B0', lw=1)\n",
    "plot_lm_2.set_figheight(8)\n",
    "plot_lm_2.set_figwidth(12)\n",
    "plot_lm_2.axes[0].set_title('Normal Q-Q')\n",
    "plot_lm_2.axes[0].set_xlabel('Theoretical Quantiles')\n",
    "plot_lm_2.axes[0].set_ylabel('Standardized Residuals');\n",
    "# annotations\n",
    "abs_norm_resid = np.flip(np.argsort(np.abs(model_norm_residuals)), 0)\n",
    "abs_norm_resid_top_3 = abs_norm_resid[:3]\n",
    "for r, i in enumerate(abs_norm_resid_top_3):\n",
    "    plot_lm_2.axes[0].annotate(i, \n",
    "                               xy=(np.flip(QQ.theoretical_quantiles, 0)[r],\n",
    "                                   model_norm_residuals[i]));"
   ]
  },
  {
   "cell_type": "markdown",
   "metadata": {},
   "source": [
    "<B><font size=3 color=\"green\">The plot residuals is not linear with the quantiles and hence will not be good fit.</B></font>"
   ]
  },
  {
   "cell_type": "markdown",
   "metadata": {},
   "source": [
    "## 3. Linear Relation Model\n",
    "\n",
    "<B><font size=3 color=\"green\">Let us plot one of the mean predictor attributes to illustrate dependencies on log(price) and square root(price) and also we know it is linearly related.</B></font>"
   ]
  },
  {
   "cell_type": "code",
   "execution_count": 200,
   "metadata": {},
   "outputs": [
    {
     "data": {
      "text/plain": [
       "<matplotlib.axes._subplots.AxesSubplot at 0x2b8707b8>"
      ]
     },
     "execution_count": 200,
     "metadata": {},
     "output_type": "execute_result"
    },
    {
     "data": {
      "image/png": "[encoded data removed]",
      "text/plain": [
       "<Figure size 432x288 with 1 Axes>"
      ]
     },
     "metadata": {},
     "output_type": "display_data"
    }
   ],
   "source": [
    "property_data.groupby('bedrooms').Power1_2.mean().plot(kind='bar',title='Mean Squareroot(Price) Vs bedrooms')"
   ]
  },
  {
   "cell_type": "markdown",
   "metadata": {},
   "source": [
    "<B><font size=3 color=\"green\">From the above Bar plot we can see as number of bedrooms increases price increases.</B></font>"
   ]
  },
  {
   "cell_type": "code",
   "execution_count": 201,
   "metadata": {},
   "outputs": [
    {
     "data": {
      "text/plain": [
       "<matplotlib.axes._subplots.AxesSubplot at 0x2bf53978>"
      ]
     },
     "execution_count": 201,
     "metadata": {},
     "output_type": "execute_result"
    },
    {
     "data": {
      "image/png": "[encoded data removed]",
      "text/plain": [
       "<Figure size 432x288 with 1 Axes>"
      ]
     },
     "metadata": {},
     "output_type": "display_data"
    }
   ],
   "source": [
    "property_data.groupby('bedrooms').logprice.mean().plot(kind='bar', title='Mean Log(Price) Vs bedrooms')"
   ]
  },
  {
   "cell_type": "markdown",
   "metadata": {},
   "source": [
    "<B><font size= 3 color=\"green\">The above plot looks almost same for all.</B></font>"
   ]
  },
  {
   "attachments": {
    "image.png": {
     "image/png": "[encoded data removed]"
    }
   },
   "cell_type": "markdown",
   "metadata": {},
   "source": [
    "## 4. Conclusion \n",
    "<br/>\n",
    "\n",
    "![image.png](attachment:image.png)\n",
    "\n",
    "<B><font size=3 color=\"green\">Infering from the above plotted histograms, log tranformation fits better to the normal distribution while square root tranformation looks close to log tranformation but it is more skewed than Log transformation. \n",
    "In our case for any Statistical analysis to be performed Log transformation would achieve better results than other tranformations analysed.\n",
    "\n",
    "On the other hand if we are trying to find the linearity between variables square root transformations gives good visualization/scatter than the log tranformation which is evident from the above bar plots.\n",
    "\n",
    "We cannot determine exactly what kind of transformation to be used as data is not huge and the predictors are not correctly defined(Evident from R-Square and P values )\n",
    "\n",
    "The table above shows the summary of the Analysis made. There is always trade off between normal distribution and R-square value. IF  we need the data to be normally distributed then we have to compromise on variance and vice versa\n",
    "<B></font>"
   ]
  },
  {
   "cell_type": "markdown",
   "metadata": {},
   "source": [
    "## 5. Summary\n",
    "\n",
    "<B><font size=3 color=\"green\">The Assignement Task A aims are fullfilled. Firstly it merges Real Estate Data and Shopping centres to find nearest shopping centres to the property.Secondly closest Hosipital details and Super market details are merged with the property information.Finally GTFS Melbourne Train Travel information with nearest station and average Travel time to Flinders are measured and also Vic Suburbs Informations are  merged with property informations. <br/>\n",
    "\n",
    "The Assginment Task B aims at performing Normalization/Transformation on Property Price column and deciding on which transformation would be best for linear model. As discussed in the above conclusion Log transformation would be best if Statistical parameters are analysed. If log is used to for linear model we may loose out spread of the data when transformed to log. In that case square root transformation performs better than Log.\n",
    "\n",
    "On the whole it solely depends on the type of analysis performed for us to decide on the transformation. Over here neither the data doesn't contain as many as the records nor predictors are given correct. Therefore there is no conclusion !!\n",
    "\n",
    "</B></font>"
   ]
  },
  {
   "cell_type": "markdown",
   "metadata": {},
   "source": [
    "## 6. References\n",
    "\n",
    "* https://medium.com/@emredjan/emulating-r-regression-plots-in-python-43741952c034\n",
    "* https://automating-gis-processes.github.io/CSC18/lessons/L4/point-in-polygon.html"
   ]
  }
 ],
 "metadata": {
  "kernelspec": {
   "display_name": "Python 3",
   "language": "python",
   "name": "python3"
  },
  "language_info": {
   "codemirror_mode": {
    "name": "ipython",
    "version": 3
   },
   "file_extension": ".py",
   "mimetype": "text/x-python",
   "name": "python",
   "nbconvert_exporter": "python",
   "pygments_lexer": "ipython3",
   "version": "3.6.5"
  }
 },
 "nbformat": 4,
 "nbformat_minor": 2
}
